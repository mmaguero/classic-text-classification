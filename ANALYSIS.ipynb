{
 "cells": [
  {
   "cell_type": "markdown",
   "metadata": {},
   "source": [
    "# codetest4_seedtag\n",
    "\n",
    "- Author: mmaguero\n",
    "- Date: 2020-12-12"
   ]
  },
  {
   "cell_type": "code",
   "execution_count": null,
   "metadata": {},
   "outputs": [],
   "source": [
    "!pip install pandas sklearn click nltk XGBoost joblib spacy"
   ]
  },
  {
   "cell_type": "code",
   "execution_count": null,
   "metadata": {},
   "outputs": [],
   "source": [
    "import nltk\n",
    "nltk.download('stopwords')"
   ]
  },
  {
   "cell_type": "code",
   "execution_count": null,
   "metadata": {},
   "outputs": [],
   "source": [
    "!python -m spacy download en_core_web_md"
   ]
  },
  {
   "cell_type": "markdown",
   "metadata": {},
   "source": [
    "## Load dataset"
   ]
  },
  {
   "cell_type": "code",
   "execution_count": 1,
   "metadata": {},
   "outputs": [],
   "source": [
    "from sklearn.model_selection import train_test_split\n",
    "from preprocessing import load_data"
   ]
  },
  {
   "cell_type": "code",
   "execution_count": 2,
   "metadata": {},
   "outputs": [
    {
     "name": "stdout",
     "output_type": "stream",
     "text": [
      "<class 'pandas.core.frame.DataFrame'>\n",
      "RangeIndex: 3859 entries, 0 to 3858\n",
      "Data columns (total 3 columns):\n",
      "id          3859 non-null object\n",
      "category    3859 non-null object\n",
      "text        3859 non-null object\n",
      "dtypes: object(3)\n",
      "memory usage: 90.6+ KB\n"
     ]
    }
   ],
   "source": [
    "mydf = load_data(path=\"dataset\", extension=\"\",output=\"data/corpus.csv\")"
   ]
  },
  {
   "cell_type": "markdown",
   "metadata": {},
   "source": [
    "Es más conveniente tenerlos así: id, categoría, texto. Viene bien para cualquier análisis que se quiera hacer y para la pipeline de entrenamiento."
   ]
  },
  {
   "cell_type": "code",
   "execution_count": 3,
   "metadata": {},
   "outputs": [
    {
     "name": "stdout",
     "output_type": "stream",
     "text": [
      "3859\r\n"
     ]
    }
   ],
   "source": [
    "# check files\n",
    "! ls dataset/*/* | wc -l"
   ]
  },
  {
   "cell_type": "markdown",
   "metadata": {},
   "source": [
    "El número de files coinicide con el número de rows (text non null) en el frame"
   ]
  },
  {
   "cell_type": "code",
   "execution_count": 4,
   "metadata": {},
   "outputs": [
    {
     "data": {
      "text/html": [
       "<div>\n",
       "<style scoped>\n",
       "    .dataframe tbody tr th:only-of-type {\n",
       "        vertical-align: middle;\n",
       "    }\n",
       "\n",
       "    .dataframe tbody tr th {\n",
       "        vertical-align: top;\n",
       "    }\n",
       "\n",
       "    .dataframe thead th {\n",
       "        text-align: right;\n",
       "    }\n",
       "</style>\n",
       "<table border=\"1\" class=\"dataframe\">\n",
       "  <thead>\n",
       "    <tr style=\"text-align: right;\">\n",
       "      <th></th>\n",
       "      <th>id</th>\n",
       "      <th>category</th>\n",
       "      <th>text</th>\n",
       "    </tr>\n",
       "  </thead>\n",
       "  <tbody>\n",
       "    <tr>\n",
       "      <th>55</th>\n",
       "      <td>178962</td>\n",
       "      <td>intelligence</td>\n",
       "      <td>b\"n article &lt;mwalker-160493090617@mwalker.npd....</td>\n",
       "    </tr>\n",
       "    <tr>\n",
       "      <th>1951</th>\n",
       "      <td>102701</td>\n",
       "      <td>politics</td>\n",
       "      <td>b\"ticle-I.D.: alleg.1993Apr6.210157.2758\\n\\nIn...</td>\n",
       "    </tr>\n",
       "    <tr>\n",
       "      <th>2710</th>\n",
       "      <td>54608</td>\n",
       "      <td>weapons</td>\n",
       "      <td>b\"n &lt;C5sv4r.HFA@news.cso.uiuc.edu&gt; irvine@uxh....</td>\n",
       "    </tr>\n",
       "    <tr>\n",
       "      <th>1451</th>\n",
       "      <td>60253</td>\n",
       "      <td>exploration</td>\n",
       "      <td>b'ticle-I.D.: topaz.STEINLY.93Apr6170313\\n\\nIn...</td>\n",
       "    </tr>\n",
       "    <tr>\n",
       "      <th>2247</th>\n",
       "      <td>104342</td>\n",
       "      <td>politics</td>\n",
       "      <td>b'n article 120399@netnews.upenn.edu, sepinwal...</td>\n",
       "    </tr>\n",
       "    <tr>\n",
       "      <th>1673</th>\n",
       "      <td>104689</td>\n",
       "      <td>politics</td>\n",
       "      <td>b' had heard the rumors about LA, Cin, Hou, an...</td>\n",
       "    </tr>\n",
       "    <tr>\n",
       "      <th>3267</th>\n",
       "      <td>38376</td>\n",
       "      <td>headhunters</td>\n",
       "      <td>b'\\nComputer Graphics Resource Listing : WEEKL...</td>\n",
       "    </tr>\n",
       "    <tr>\n",
       "      <th>3456</th>\n",
       "      <td>53135</td>\n",
       "      <td>logistics</td>\n",
       "      <td>b'n article &lt;1qi156INNf9n@senator-bedfellow.MI...</td>\n",
       "    </tr>\n",
       "    <tr>\n",
       "      <th>2284</th>\n",
       "      <td>54537</td>\n",
       "      <td>weapons</td>\n",
       "      <td>b\" predict that the outcome of the study of wh...</td>\n",
       "    </tr>\n",
       "    <tr>\n",
       "      <th>3345</th>\n",
       "      <td>38651</td>\n",
       "      <td>headhunters</td>\n",
       "      <td>b're there any TIFF to anything programs out t...</td>\n",
       "    </tr>\n",
       "  </tbody>\n",
       "</table>\n",
       "</div>"
      ],
      "text/plain": [
       "          id      category                                               text\n",
       "55    178962  intelligence  b\"n article <mwalker-160493090617@mwalker.npd....\n",
       "1951  102701      politics  b\"ticle-I.D.: alleg.1993Apr6.210157.2758\\n\\nIn...\n",
       "2710   54608       weapons  b\"n <C5sv4r.HFA@news.cso.uiuc.edu> irvine@uxh....\n",
       "1451   60253   exploration  b'ticle-I.D.: topaz.STEINLY.93Apr6170313\\n\\nIn...\n",
       "2247  104342      politics  b'n article 120399@netnews.upenn.edu, sepinwal...\n",
       "1673  104689      politics  b' had heard the rumors about LA, Cin, Hou, an...\n",
       "3267   38376   headhunters  b'\\nComputer Graphics Resource Listing : WEEKL...\n",
       "3456   53135     logistics  b'n article <1qi156INNf9n@senator-bedfellow.MI...\n",
       "2284   54537       weapons  b\" predict that the outcome of the study of wh...\n",
       "3345   38651   headhunters  b're there any TIFF to anything programs out t..."
      ]
     },
     "execution_count": 4,
     "metadata": {},
     "output_type": "execute_result"
    }
   ],
   "source": [
    "# see some samples\n",
    "mydf.sample(10)"
   ]
  },
  {
   "cell_type": "code",
   "execution_count": 5,
   "metadata": {},
   "outputs": [
    {
     "data": {
      "text/plain": [
       "3571"
      ]
     },
     "execution_count": 5,
     "metadata": {},
     "output_type": "execute_result"
    }
   ],
   "source": [
    "# simple lang identification: its have \"the\": https://en.wikipedia.org/wiki/The (most common word)\n",
    "mydf[\"the\"] = mydf.text.apply(lambda a: 1 if \"the\" in str(a).split() else 0)\n",
    "sum(mydf[\"the\"])"
   ]
  },
  {
   "cell_type": "code",
   "execution_count": 6,
   "metadata": {},
   "outputs": [
    {
     "data": {
      "text/plain": [
       "703     b'n article <C5r66A.6rB@srgenprp.sr.hp.com> al...\n",
       "3059    b'C51Eyz.4Ix@optimla.aimla.com> <1993Apr6.1445...\n",
       "2985    b'oes anyone have a radon transform in C that ...\n",
       "865     b'ccording to a LoJack representative I saw re...\n",
       "2989    b'e have been using Iterated Systems compressi...\n",
       "2667    b\"n article <1qrn3aINN4rq@clem.handheld.com> j...\n",
       "553     b\"ou can be sure they wouldn't do it if it was...\n",
       "1148    b\" C-3's bird may be flaking out and expecting...\n",
       "2087    b\"ello All,\\n\\nI'd like to learn how to keep s...\n",
       "1766    b\"ticle-I.D.: agate.1ps77v$5dr\\n\\n\\n\\t     MLB...\n",
       "Name: text, dtype: object"
      ]
     },
     "execution_count": 6,
     "metadata": {},
     "output_type": "execute_result"
    }
   ],
   "source": [
    "mydf[mydf.the==0][\"text\"].sample(10)"
   ]
  },
  {
   "cell_type": "markdown",
   "metadata": {},
   "source": [
    "...es un dataset en English"
   ]
  },
  {
   "cell_type": "markdown",
   "metadata": {},
   "source": [
    "## Preprocessing"
   ]
  },
  {
   "cell_type": "markdown",
   "metadata": {},
   "source": [
    "- For train and test:\n",
    "    - remove null texts\n",
    "    - spit data in 80/10/10 train/test/eval\n",
    "- For train and test: \n",
    "    - clean text:\n",
    "    - Experimento 1\n",
    "        - lowercase\n",
    "        - remove \"\\n\"\n",
    "    - Experimento 2 (add)\n",
    "        - clean: ignore_url=True, content_words=True, lemma=True, that is, URL out, only content words with lemma\n",
    "- Inference:\n",
    "    - the (best model) last experiment setup"
   ]
  },
  {
   "cell_type": "markdown",
   "metadata": {},
   "source": [
    "## Train"
   ]
  },
  {
   "cell_type": "code",
   "execution_count": 7,
   "metadata": {},
   "outputs": [
    {
     "data": {
      "text/plain": [
       "<matplotlib.axes._subplots.AxesSubplot at 0x7f0ddf948be0>"
      ]
     },
     "execution_count": 7,
     "metadata": {},
     "output_type": "execute_result"
    },
    {
     "data": {
      "image/png": "[encoded data removed]",
      "text/plain": [
       "<Figure size 432x288 with 1 Axes>"
      ]
     },
     "metadata": {
      "needs_background": "light"
     },
     "output_type": "display_data"
    }
   ],
   "source": [
    "mydf['category'].value_counts().plot(kind='bar')"
   ]
  },
  {
   "cell_type": "markdown",
   "metadata": {},
   "source": [
    "Parecen clases balanceadas, excepto logistics o intelligence"
   ]
  },
  {
   "cell_type": "markdown",
   "metadata": {},
   "source": [
    "Entrenamos 6 modelos bien conocidos para clasificación (también para textos):\n",
    "- MNB, Multinomial Naive Bayes, probabilista simple y muy usado porque produce resultados tan buenos como otros modelos mas sofisticados\n",
    "- LogReg, Regresión Logística, multifuncional, así como MNB, simple :)! una red neuronal miniatura?\n",
    "- RFC, Random Forests, un ensemble de árboles! \n",
    "- SVC, Linear Support Vector Machine, busca la distancia en el hiperplano para clasificar y suele ser muy estable.\n",
    "- XGBoost, un ensemble y suelen funcionar bien con variables catégoricas y pocas clases. \n",
    "- KNN, K-Vecinos cercanos, cuando llega un nuevo texto, se toma su vector de características y se extraen los k textos más cercanos de nuestra base de datos. Después, se etiqueta el nuevo texto conforme a las categorías de sus vecinos. Idealmente, todos sus vecinos tendrán los mismas. Ya veremos...\n",
    "\n",
    "Todos los modelos, primero pasan por una pipeline, además del preprocesado:\n",
    "- CountVectorizer, una bolsa de palabras con sus frecuencias\n",
    "- Tf-idfVectorizer, transform, para responder a: how relevant a word is to a document in a collection of documents?"
   ]
  },
  {
   "cell_type": "markdown",
   "metadata": {},
   "source": [
    "### Experimento 1"
   ]
  },
  {
   "cell_type": "markdown",
   "metadata": {},
   "source": [
    "_Pipeline_:\n",
    "\n",
    "`pipeline[name] = Pipeline([\n",
    "                ('vect', CountVectorizer(stop_words=stop_words,preprocessor=clean_text)),\n",
    "                ('tfidf', TfidfVectorizer()),\n",
    "                ('clf', model),\n",
    "            ], verbose=1)`\n",
    "            \n",
    "_Models params_:\n",
    "\n",
    "`models = {\"MNB\": MultinomialNB(fit_prior=True, class_prior=None),\n",
    "          \"SVC\":LinearSVC(),\n",
    "          \"LogReg\":LogisticRegression(solver='sag',n_jobs=-1),\n",
    "          \"XGB\":XGBClassifier(n_jobs=-1,eval_metric='merror'),\n",
    "          \"RFC\":RandomForestClassifier(n_jobs=-1),\n",
    "          \"KNN\":KNeighborsClassifier(n_neighbors=10,n_jobs=-1)} # slow, use 10 neighbors`"
   ]
  },
  {
   "cell_type": "code",
   "execution_count": 11,
   "metadata": {},
   "outputs": [
    {
     "name": "stdout",
     "output_type": "stream",
     "text": [
      "<class 'pandas.core.frame.DataFrame'>\n",
      "RangeIndex: 3859 entries, 0 to 3858\n",
      "Data columns (total 3 columns):\n",
      "id          3859 non-null object\n",
      "category    3859 non-null object\n",
      "text        3859 non-null object\n",
      "dtypes: object(3)\n",
      "memory usage: 90.6+ KB\n",
      "... Processing\n",
      "Init train MNB\n",
      "[Pipeline] .............. (step 1 of 3) Processing vect, total=  58.8s\n",
      "[Pipeline] ............. (step 2 of 3) Processing tfidf, total=   1.5s\n",
      "[Pipeline] ............... (step 3 of 3) Processing clf, total=   0.0s\n",
      "End train MNB\n",
      "Save/load model category_MNB\n",
      "accuracy_test:   0.837\n",
      "accuracy_eval:   0.836\n",
      "classification report:\n",
      "TEST\n",
      "                 precision    recall  f1-score   support\n",
      "\n",
      "   exploration       0.94      0.84      0.89        56\n",
      "   headhunters       0.65      0.98      0.78        51\n",
      "  intelligence       0.95      0.43      0.59        42\n",
      "     logistics       0.96      0.88      0.91        49\n",
      "      politics       0.74      0.96      0.84        57\n",
      "transportation       0.89      0.87      0.88        68\n",
      "       weapons       0.94      0.81      0.87        58\n",
      "\n",
      "      accuracy                           0.84       381\n",
      "     macro avg       0.87      0.82      0.82       381\n",
      "  weighted avg       0.87      0.84      0.83       381\n",
      "\n",
      "EVAL\n",
      "                 precision    recall  f1-score   support\n",
      "\n",
      "   exploration       0.94      0.92      0.93        73\n",
      "   headhunters       0.65      1.00      0.79        48\n",
      "  intelligence       1.00      0.43      0.60        49\n",
      "     logistics       0.98      0.76      0.86        55\n",
      "      politics       0.76      0.95      0.84        60\n",
      "transportation       0.82      0.94      0.88        50\n",
      "       weapons       0.90      0.80      0.85        56\n",
      "\n",
      "      accuracy                           0.84       391\n",
      "     macro avg       0.86      0.83      0.82       391\n",
      "  weighted avg       0.87      0.84      0.83       391\n",
      "\n",
      "confusion matrix:\n",
      "TEST\n",
      " [[47  6  1  0  1  1  0]\n",
      " [ 0 50  0  0  1  0  0]\n",
      " [ 2  5 18  1 10  4  2]\n",
      " [ 1  4  0 43  1  0  0]\n",
      " [ 0  2  0  0 55  0  0]\n",
      " [ 0  6  0  0  2 59  1]\n",
      " [ 0  4  0  1  4  2 47]]\n",
      "EVAL\n",
      " [[67  6  0  0  0  0  0]\n",
      " [ 0 48  0  0  0  0  0]\n",
      " [ 1  6 21  1 11  4  5]\n",
      " [ 2  6  0 42  4  1  0]\n",
      " [ 0  1  0  0 57  2  0]\n",
      " [ 0  3  0  0  0 47  0]\n",
      " [ 1  4  0  0  3  3 45]]\n",
      "... Processing\n",
      "Init train SVC\n",
      "[Pipeline] .............. (step 1 of 3) Processing vect, total=  58.3s\n",
      "[Pipeline] ............. (step 2 of 3) Processing tfidf, total=   1.5s\n",
      "[Pipeline] ............... (step 3 of 3) Processing clf, total=   0.2s\n",
      "End train SVC\n",
      "Save/load model category_SVC\n",
      "accuracy_test:   0.934\n",
      "accuracy_eval:   0.890\n",
      "classification report:\n",
      "TEST\n",
      "                 precision    recall  f1-score   support\n",
      "\n",
      "   exploration       1.00      0.96      0.98        56\n",
      "   headhunters       0.85      0.98      0.91        51\n",
      "  intelligence       1.00      0.79      0.88        42\n",
      "     logistics       0.98      0.96      0.97        49\n",
      "      politics       0.88      0.98      0.93        57\n",
      "transportation       0.91      0.93      0.92        68\n",
      "       weapons       0.98      0.91      0.95        58\n",
      "\n",
      "      accuracy                           0.93       381\n",
      "     macro avg       0.94      0.93      0.93       381\n",
      "  weighted avg       0.94      0.93      0.93       381\n",
      "\n",
      "EVAL\n",
      "                 precision    recall  f1-score   support\n",
      "\n",
      "   exploration       0.96      0.89      0.92        73\n",
      "   headhunters       0.83      1.00      0.91        48\n",
      "  intelligence       1.00      0.65      0.79        49\n",
      "     logistics       0.95      0.95      0.95        55\n",
      "      politics       0.84      0.97      0.90        60\n",
      "transportation       0.81      0.96      0.88        50\n",
      "       weapons       0.90      0.80      0.85        56\n",
      "\n",
      "      accuracy                           0.89       391\n",
      "     macro avg       0.90      0.89      0.88       391\n",
      "  weighted avg       0.90      0.89      0.89       391\n",
      "\n",
      "confusion matrix:\n",
      "TEST\n",
      " [[54  1  0  0  1  0  0]\n",
      " [ 0 50  0  0  1  0  0]\n",
      " [ 0  2 33  1  2  4  0]\n",
      " [ 0  2  0 47  0  0  0]\n",
      " [ 0  1  0  0 56  0  0]\n",
      " [ 0  2  0  0  2 63  1]\n",
      " [ 0  1  0  0  2  2 53]]\n",
      "EVAL\n",
      " [[65  4  0  0  3  1  0]\n",
      " [ 0 48  0  0  0  0  0]\n",
      " [ 0  1 32  3  4  4  5]\n",
      " [ 1  1  0 52  1  0  0]\n",
      " [ 0  0  0  0 58  2  0]\n",
      " [ 0  1  0  0  1 48  0]\n",
      " [ 2  3  0  0  2  4 45]]\n",
      "... Processing\n",
      "Init train LogReg\n",
      "[Pipeline] .............. (step 1 of 3) Processing vect, total=  57.9s\n",
      "[Pipeline] ............. (step 2 of 3) Processing tfidf, total=   1.5s\n",
      "[Pipeline] ............... (step 3 of 3) Processing clf, total=   0.3s\n",
      "End train LogReg\n",
      "Save/load model category_LogReg\n",
      "accuracy_test:   0.866\n",
      "accuracy_eval:   0.847\n",
      "classification report:\n",
      "TEST\n",
      "                 precision    recall  f1-score   support\n",
      "\n",
      "   exploration       0.96      0.88      0.92        56\n",
      "   headhunters       0.66      0.98      0.79        51\n",
      "  intelligence       0.96      0.60      0.74        42\n",
      "     logistics       0.98      0.88      0.92        49\n",
      "      politics       0.85      0.96      0.90        57\n",
      "transportation       0.87      0.90      0.88        68\n",
      "       weapons       0.96      0.81      0.88        58\n",
      "\n",
      "      accuracy                           0.87       381\n",
      "     macro avg       0.89      0.86      0.86       381\n",
      "  weighted avg       0.89      0.87      0.87       381\n",
      "\n",
      "EVAL\n",
      "                 precision    recall  f1-score   support\n",
      "\n",
      "   exploration       0.94      0.90      0.92        73\n",
      "   headhunters       0.66      1.00      0.79        48\n",
      "  intelligence       1.00      0.49      0.66        49\n",
      "     logistics       0.98      0.85      0.91        55\n",
      "      politics       0.83      0.95      0.88        60\n",
      "transportation       0.78      0.94      0.85        50\n",
      "       weapons       0.89      0.75      0.82        56\n",
      "\n",
      "      accuracy                           0.85       391\n",
      "     macro avg       0.87      0.84      0.83       391\n",
      "  weighted avg       0.87      0.85      0.84       391\n",
      "\n",
      "confusion matrix:\n",
      "TEST\n",
      " [[49  4  1  0  2  0  0]\n",
      " [ 0 50  0  0  1  0  0]\n",
      " [ 1  6 25  1  3  5  1]\n",
      " [ 1  3  0 43  1  1  0]\n",
      " [ 0  2  0  0 55  0  0]\n",
      " [ 0  5  0  0  1 61  1]\n",
      " [ 0  6  0  0  2  3 47]]\n",
      "EVAL\n",
      " [[66  5  0  0  1  1  0]\n",
      " [ 0 48  0  0  0  0  0]\n",
      " [ 1  4 24  1  8  6  5]\n",
      " [ 1  6  0 47  1  0  0]\n",
      " [ 0  2  0  0 57  1  0]\n",
      " [ 0  3  0  0  0 47  0]\n",
      " [ 2  5  0  0  2  5 42]]\n",
      "... Processing\n",
      "Init train XGB\n",
      "[Pipeline] .............. (step 1 of 3) Processing vect, total=  57.7s\n",
      "[Pipeline] ............. (step 2 of 3) Processing tfidf, total=   1.5s\n",
      "[Pipeline] ............... (step 3 of 3) Processing clf, total=  11.7s\n",
      "End train XGB\n",
      "Save/load model category_XGB\n",
      "accuracy_test:   0.738\n",
      "accuracy_eval:   0.701\n",
      "classification report:\n",
      "TEST\n",
      "                 precision    recall  f1-score   support\n",
      "\n",
      "   exploration       0.78      0.68      0.72        56\n",
      "   headhunters       0.61      0.90      0.73        51\n",
      "  intelligence       0.62      0.50      0.55        42\n",
      "     logistics       0.88      0.76      0.81        49\n",
      "      politics       0.88      0.86      0.87        57\n",
      "transportation       0.70      0.74      0.72        68\n",
      "       weapons       0.74      0.69      0.71        58\n",
      "\n",
      "      accuracy                           0.74       381\n",
      "     macro avg       0.74      0.73      0.73       381\n",
      "  weighted avg       0.75      0.74      0.74       381\n",
      "\n",
      "EVAL\n",
      "                 precision    recall  f1-score   support\n",
      "\n",
      "   exploration       0.77      0.66      0.71        73\n",
      "   headhunters       0.66      0.83      0.73        48\n",
      "  intelligence       0.46      0.35      0.40        49\n",
      "     logistics       0.84      0.67      0.75        55\n",
      "      politics       0.81      0.92      0.86        60\n",
      "transportation       0.59      0.80      0.68        50\n",
      "       weapons       0.73      0.66      0.69        56\n",
      "\n",
      "      accuracy                           0.70       391\n",
      "     macro avg       0.69      0.70      0.69       391\n",
      "  weighted avg       0.70      0.70      0.70       391\n",
      "\n",
      "confusion matrix:\n",
      "TEST\n",
      " [[38  9  1  0  1  5  2]\n",
      " [ 2 46  0  0  0  3  0]\n",
      " [ 3  1 21  2  3  6  6]\n",
      " [ 1  6  2 37  0  1  2]\n",
      " [ 1  3  1  1 49  1  1]\n",
      " [ 2  7  2  2  2 50  3]\n",
      " [ 2  3  7  0  1  5 40]]\n",
      "EVAL\n",
      " [[48  5  4  2  6  4  4]\n",
      " [ 3 40  0  0  0  4  1]\n",
      " [ 3  5 17  3  3 10  8]\n",
      " [ 4  3  4 37  2  4  1]\n",
      " [ 1  2  1  0 55  1  0]\n",
      " [ 2  4  2  1  1 40  0]\n",
      " [ 1  2  9  1  1  5 37]]\n",
      "... Processing\n",
      "Init train RFC\n",
      "[Pipeline] .............. (step 1 of 3) Processing vect, total=  58.8s\n"
     ]
    },
    {
     "name": "stdout",
     "output_type": "stream",
     "text": [
      "[Pipeline] ............. (step 2 of 3) Processing tfidf, total=   1.5s\n",
      "[Pipeline] ............... (step 3 of 3) Processing clf, total=   1.2s\n",
      "End train RFC\n",
      "Save/load model category_RFC\n",
      "accuracy_test:   0.722\n",
      "accuracy_eval:   0.693\n",
      "classification report:\n",
      "TEST\n",
      "                 precision    recall  f1-score   support\n",
      "\n",
      "   exploration       0.91      0.70      0.79        56\n",
      "   headhunters       0.42      0.92      0.58        51\n",
      "  intelligence       0.78      0.43      0.55        42\n",
      "     logistics       0.88      0.76      0.81        49\n",
      "      politics       0.82      0.93      0.87        57\n",
      "transportation       0.84      0.72      0.78        68\n",
      "       weapons       0.82      0.55      0.66        58\n",
      "\n",
      "      accuracy                           0.72       381\n",
      "     macro avg       0.78      0.71      0.72       381\n",
      "  weighted avg       0.79      0.72      0.73       381\n",
      "\n",
      "EVAL\n",
      "                 precision    recall  f1-score   support\n",
      "\n",
      "   exploration       0.81      0.68      0.74        73\n",
      "   headhunters       0.44      0.94      0.60        48\n",
      "  intelligence       0.72      0.37      0.49        49\n",
      "     logistics       0.87      0.62      0.72        55\n",
      "      politics       0.80      0.93      0.86        60\n",
      "transportation       0.68      0.80      0.73        50\n",
      "       weapons       0.85      0.50      0.63        56\n",
      "\n",
      "      accuracy                           0.69       391\n",
      "     macro avg       0.74      0.69      0.68       391\n",
      "  weighted avg       0.75      0.69      0.69       391\n",
      "\n",
      "confusion matrix:\n",
      "TEST\n",
      " [[39 11  1  1  1  2  1]\n",
      " [ 1 47  0  0  1  2  0]\n",
      " [ 0 12 18  0  5  3  4]\n",
      " [ 2  9  0 37  0  0  1]\n",
      " [ 0  3  0  1 53  0  0]\n",
      " [ 1 12  1  1  3 49  1]\n",
      " [ 0 17  3  2  2  2 32]]\n",
      "EVAL\n",
      " [[50 15  1  1  3  2  1]\n",
      " [ 2 45  0  0  1  0  0]\n",
      " [ 4 11 18  2  4  6  4]\n",
      " [ 4  9  2 34  2  4  0]\n",
      " [ 1  3  0  0 56  0  0]\n",
      " [ 1  6  2  0  1 40  0]\n",
      " [ 0 14  2  2  3  7 28]]\n",
      "... Processing\n",
      "Init train KNN\n",
      "[Pipeline] .............. (step 1 of 3) Processing vect, total=  57.5s\n",
      "[Pipeline] ............. (step 2 of 3) Processing tfidf, total=   1.4s\n",
      "[Pipeline] ............... (step 3 of 3) Processing clf, total=   0.0s\n",
      "End train KNN\n",
      "Save/load model category_KNN\n",
      "accuracy_test:   0.782\n",
      "accuracy_eval:   0.780\n",
      "classification report:\n",
      "TEST\n",
      "                 precision    recall  f1-score   support\n",
      "\n",
      "   exploration       0.93      0.75      0.83        56\n",
      "   headhunters       0.47      0.96      0.63        51\n",
      "  intelligence       0.89      0.57      0.70        42\n",
      "     logistics       0.98      0.86      0.91        49\n",
      "      politics       0.78      0.91      0.84        57\n",
      "transportation       0.92      0.71      0.80        68\n",
      "       weapons       0.98      0.71      0.82        58\n",
      "\n",
      "      accuracy                           0.78       381\n",
      "     macro avg       0.85      0.78      0.79       381\n",
      "  weighted avg       0.85      0.78      0.79       381\n",
      "\n",
      "EVAL\n",
      "                 precision    recall  f1-score   support\n",
      "\n",
      "   exploration       1.00      0.77      0.87        73\n",
      "   headhunters       0.47      1.00      0.64        48\n",
      "  intelligence       1.00      0.59      0.74        49\n",
      "     logistics       0.96      0.82      0.88        55\n",
      "      politics       0.77      0.88      0.82        60\n",
      "transportation       0.80      0.74      0.77        50\n",
      "       weapons       0.88      0.66      0.76        56\n",
      "\n",
      "      accuracy                           0.78       391\n",
      "     macro avg       0.84      0.78      0.78       391\n",
      "  weighted avg       0.85      0.78      0.79       391\n",
      "\n",
      "confusion matrix:\n",
      "TEST\n",
      " [[42 12  1  0  1  0  0]\n",
      " [ 1 49  0  0  1  0  0]\n",
      " [ 0 10 24  1  5  2  0]\n",
      " [ 0  7  0 42  0  0  0]\n",
      " [ 0  4  1  0 52  0  0]\n",
      " [ 1 15  0  0  3 48  1]\n",
      " [ 1  8  1  0  5  2 41]]\n",
      "EVAL\n",
      " [[56 11  0  0  2  3  1]\n",
      " [ 0 48  0  0  0  0  0]\n",
      " [ 0  8 29  1  8  1  2]\n",
      " [ 0  8  0 45  0  0  2]\n",
      " [ 0  6  0  0 53  1  0]\n",
      " [ 0 10  0  1  2 37  0]\n",
      " [ 0 11  0  0  4  4 37]]\n"
     ]
    }
   ],
   "source": [
    "!python3 train.py \"dataset\""
   ]
  },
  {
   "cell_type": "markdown",
   "metadata": {},
   "source": [
    "Con **Linear SVC**, llegamos a **93%** de accuracy en test (0.934) [en eval, 0.89, lo que nos da un mean de 0.912], o acierto 1 a 1, true_predict=true_label, siendo la categoría mejor clasificada *exploration* y la peor, *intelligence*, esto según su F1-score, que es una métrica de la media armónica calculada a partir de precision (¿Qué proporción de identificaciones positivas fue realmente correcta?) y recall (¿Qué proporción de positivos reales se identificó correctamente?). Esto último, se repite para todos los demás clasificadores, excepto para KNN (peor: *headhunters* y el segundo peor: *intelligence*)."
   ]
  },
  {
   "cell_type": "markdown",
   "metadata": {},
   "source": [
    "Podemos explorar mientras la categoría, intelligence:"
   ]
  },
  {
   "cell_type": "code",
   "execution_count": 58,
   "metadata": {},
   "outputs": [],
   "source": [
    "pd.set_option('display.max_colwidth', -1)"
   ]
  },
  {
   "cell_type": "code",
   "execution_count": 94,
   "metadata": {},
   "outputs": [
    {
     "data": {
      "text/plain": [
       "345    b'n <C50sJG.3Eu@voder.nsc.com> matt@galaxy.nsc.com (Matt Freivald x8043) writes:\\n\\n>In article 164633 in talk.politics.misc, bob1@cos.com (Bob Blackshaw) writes:\\n\\n>>>>And Ms. Regard, please don\\'t give us the trite \"you can\\'t legislate \\n>>>>morality\" nonsense again: there is little else that is legislated, \\n>>>>including the moral concept of \"rights\".\\n\\n>>Really? Pure Socialism had this belief, and fell flat on its ass by\\n>>attempting to follow such reasoning. Suppose you pass a law that\\n>>states that I must love my neighbour, regardless of race, religion,\\n>>etc. How exactly do you plan to enforce such a law? Better yet, how\\n>>do you plan to measure compliance? And even if you overcome those\\n>>two obstacles, how will you ever know if I have become *more moral*\\n>>or not?\\n\\n>You either missed the point or are being somewhat disingenuous;  I have\\n>never heard anyone suggest that you can legislate what people think.\\n>Laws are based on either expediency (i.e. traffic laws) or morality (i.e.\\n>human rights), as far as I can tell, and the majority are based on the\\n>latter.\\n\\nOnce more around the racetrack. See the original statement that it is\\nnonsense to believe that you cannot legislate morality. I simply stated\\nthat they can pass all the laws they want but not a single one of them\\nwill make you or I more moral people. They may make us act in a moral\\nmanner, but our actions are only a reflection of the unwillingness to\\nrisk punishment. They say nothing about whether we have become more\\nmoral or not. Perhaps the distinction is too fine.\\n\\n\\n\\n>Matt Freivald\\n\\nTOG\\n\\n>--------------------------------------------------------------------------\\n>               \"I\\'m not a feminist -- I\\'m for equal rights!\"\\n>--------------------------------------------------------------------------\\n>             If you don\\'t believe in abortion, don\\'t have one!\\n>              If you don\\'t believe in slavery, don\\'t own one!\\n>             If you don\\'t believe in murder, don\\'t commit one!\\n>--------------------------------------------------------------------------\\n>                   Pro CHILD. Pro FAMILY. Pro LIFE.\\n>--------------------------------------------------------------------------\\n>THESE ARE MY OPINIONS ONLY AND NOT THOSE OF MY EMPLOYER!!!!!!!!!!!!!!!!!!!\\n>--------------------------------------------------------------------------'\n",
       "Name: text, dtype: object"
      ]
     },
     "execution_count": 94,
     "metadata": {},
     "output_type": "execute_result"
    }
   ],
   "source": [
    "mydf[mydf.category=='intelligence']['text'].sample(1)"
   ]
  },
  {
   "cell_type": "code",
   "execution_count": 93,
   "metadata": {},
   "outputs": [
    {
     "data": {
      "text/plain": [
       "1292    b'ticle-I.D.: news.C51rzx.AC3\\n\\nnsmca@aurora.alaska.edu writes:\\n\\n[Excellent discussion of DC-X landing techniques by Henry deleted]\\n\\n>Since the DC-X is to take off horizontal, why not land that way??\\n\\nThe DC-X will not take of horizontally.  It takes of vertically. \\n\\n>Why do the Martian Landing thing.. \\n\\nFor several reasons.  Vertical landings don\\'t require miles of runway and limit\\nnoise pollution.  They don\\'t require wheels or wings.  Just turn on the engines\\nand touch down.  Of course, as Henry pointed out, vetical landings aren\\'t quite\\nthat simple.\\n\\n>Or am I missing something.. Don\\'t know to\\n>much about DC-X and such.. (overly obvious?).\\n\\nWell, to be blunt, yes.  But at least you\\'re learning.\\n\\n>Why not just fall to earth like the russian crafts?? Parachute in then...\\n\\nThe Soyuz vehicles use parachutes for the descent and then fire small rockets\\njust before they hit the ground.  Parachutes are, however, not especially\\npractical if you want to reuse something without much effort.  The landings\\nare also not very comfortable.  However, in the words of Georgy Grechko,\\n\"I prefer to have bruises, not to sink.\"\\n\\n\\n-- \\nJosh Hopkins                                          jbh55289@uxa.cso.uiuc.edu\\n          \"Tout ce qu\\'un homme est capable d\\'imaginer, d\\'autres hommes\\n            \\t     seront capable de la realiser\"\\n\\t\\t\\t -Jules Verne'\n",
       "Name: text, dtype: object"
      ]
     },
     "execution_count": 93,
     "metadata": {},
     "output_type": "execute_result"
    }
   ],
   "source": [
    "mydf[mydf.category=='exploration']['text'].sample(1)"
   ]
  },
  {
   "cell_type": "markdown",
   "metadata": {},
   "source": [
    "Comparando con exploration, parecen ser textos más largos de media, comprobemos..."
   ]
  },
  {
   "cell_type": "code",
   "execution_count": 81,
   "metadata": {},
   "outputs": [],
   "source": [
    "mydf['text_length'] = mydf.text.apply(lambda a: len(a))\n",
    "mydf['text_token_count'] = mydf.text.apply(lambda a: len(a.split()))"
   ]
  },
  {
   "cell_type": "code",
   "execution_count": 102,
   "metadata": {},
   "outputs": [
    {
     "data": {
      "text/plain": [
       "(2646.2903225806454, 422.73333333333335)"
      ]
     },
     "execution_count": 102,
     "metadata": {},
     "output_type": "execute_result"
    }
   ],
   "source": [
    "mydf[mydf.category=='intelligence']['text_length'].mean(),mydf[mydf.category=='intelligence']['text_token_count'].mean()"
   ]
  },
  {
   "cell_type": "code",
   "execution_count": 104,
   "metadata": {},
   "outputs": [
    {
     "data": {
      "text/plain": [
       "(1789.3490725126476, 273.5615514333895)"
      ]
     },
     "execution_count": 104,
     "metadata": {},
     "output_type": "execute_result"
    }
   ],
   "source": [
    "mydf[mydf.category=='exploration']['text_length'].mean(),mydf[mydf.category=='exploration']['text_token_count'].mean()"
   ]
  },
  {
   "cell_type": "markdown",
   "metadata": {},
   "source": [
    "Vemos que si... a lo mejor con rich text mining el texto...mejora"
   ]
  },
  {
   "cell_type": "markdown",
   "metadata": {},
   "source": [
    "### Experimento 2"
   ]
  },
  {
   "cell_type": "markdown",
   "metadata": {},
   "source": [
    "_Pipeline_:\n",
    "\n",
    "`pipeline[name] = Pipeline([\n",
    "                ('vect', CountVectorizer(stop_words=stop_words,preprocessor=clean_text)), # clean_text extended: only words, lemma, content words\n",
    "                ('tfidf', TfidfVectorizer()),\n",
    "                ('clf', model),\n",
    "            ], verbose=1)`\n",
    "            \n",
    "_Models params_:\n",
    "\n",
    "`models = {\"MNB\": MultinomialNB(fit_prior=True, class_prior=None),\n",
    "          \"SVC\":LinearSVC(),\n",
    "          \"LogReg\":LogisticRegression(solver='sag',n_jobs=-1),\n",
    "          \"XGB\":XGBClassifier(n_jobs=-1,eval_metric='merror'),\n",
    "          \"RFC\":RandomForestClassifier(n_jobs=-1),\n",
    "          \"KNN\":KNeighborsClassifier(n_neighbors=10,n_jobs=-1)} # slow, use 10 neighbors`"
   ]
  },
  {
   "cell_type": "code",
   "execution_count": 12,
   "metadata": {},
   "outputs": [
    {
     "name": "stdout",
     "output_type": "stream",
     "text": [
      "<class 'pandas.core.frame.DataFrame'>\n",
      "RangeIndex: 3859 entries, 0 to 3858\n",
      "Data columns (total 3 columns):\n",
      "id          3859 non-null object\n",
      "category    3859 non-null object\n",
      "text        3859 non-null object\n",
      "dtypes: object(3)\n",
      "memory usage: 90.6+ KB\n",
      "... Processing\n",
      "Init train MNB\n",
      "[Pipeline] .............. (step 1 of 3) Processing vect, total=  28.3s\n",
      "[Pipeline] ............. (step 2 of 3) Processing tfidf, total=   1.3s\n",
      "[Pipeline] ............... (step 3 of 3) Processing clf, total=   0.0s\n",
      "End train MNB\n",
      "Save/load model category_MNB\n",
      "accuracy_test:   0.893\n",
      "accuracy_eval:   0.887\n",
      "classification report:\n",
      "TEST\n",
      "                 precision    recall  f1-score   support\n",
      "\n",
      "   exploration       0.98      0.92      0.95        64\n",
      "   headhunters       0.79      0.98      0.88        51\n",
      "  intelligence       1.00      0.50      0.67        44\n",
      "     logistics       0.94      0.88      0.91        51\n",
      "      politics       0.91      0.96      0.94        54\n",
      "transportation       0.88      0.95      0.91        62\n",
      "       weapons       0.84      0.95      0.89        66\n",
      "\n",
      "      accuracy                           0.89       392\n",
      "     macro avg       0.91      0.88      0.88       392\n",
      "  weighted avg       0.90      0.89      0.89       392\n",
      "\n",
      "EVAL\n",
      "                 precision    recall  f1-score   support\n",
      "\n",
      "   exploration       0.93      0.97      0.95        65\n",
      "   headhunters       0.77      1.00      0.87        48\n",
      "  intelligence       1.00      0.60      0.75        47\n",
      "     logistics       0.94      0.83      0.88        53\n",
      "      politics       0.95      0.94      0.94        63\n",
      "transportation       0.91      0.91      0.91        56\n",
      "       weapons       0.77      0.92      0.84        48\n",
      "\n",
      "      accuracy                           0.89       380\n",
      "     macro avg       0.90      0.88      0.88       380\n",
      "  weighted avg       0.90      0.89      0.88       380\n",
      "\n",
      "confusion matrix:\n",
      "TEST\n",
      " [[59  5  0  0  0  0  0]\n",
      " [ 0 50  0  0  0  1  0]\n",
      " [ 0  3 22  2  3  3 11]\n",
      " [ 1  1  0 45  1  2  1]\n",
      " [ 0  1  0  0 52  1  0]\n",
      " [ 0  3  0  0  0 59  0]\n",
      " [ 0  0  0  1  1  1 63]]\n",
      "EVAL\n",
      " [[63  1  0  0  1  0  0]\n",
      " [ 0 48  0  0  0  0  0]\n",
      " [ 2  2 28  1  1  2 11]\n",
      " [ 2  4  0 44  1  1  1]\n",
      " [ 1  2  0  0 59  1  0]\n",
      " [ 0  4  0  0  0 51  1]\n",
      " [ 0  1  0  2  0  1 44]]\n",
      "... Processing\n",
      "Init train SVC\n",
      "[Pipeline] .............. (step 1 of 3) Processing vect, total=  28.0s\n",
      "[Pipeline] ............. (step 2 of 3) Processing tfidf, total=   1.3s\n",
      "[Pipeline] ............... (step 3 of 3) Processing clf, total=   0.1s\n",
      "End train SVC\n",
      "Save/load model category_SVC\n",
      "accuracy_test:   0.929\n",
      "accuracy_eval:   0.924\n",
      "classification report:\n",
      "TEST\n",
      "                 precision    recall  f1-score   support\n",
      "\n",
      "   exploration       0.98      0.88      0.93        64\n",
      "   headhunters       0.86      1.00      0.93        51\n",
      "  intelligence       0.89      0.77      0.83        44\n",
      "     logistics       0.94      0.98      0.96        51\n",
      "      politics       0.96      0.98      0.97        54\n",
      "transportation       0.94      0.97      0.95        62\n",
      "       weapons       0.91      0.91      0.91        66\n",
      "\n",
      "      accuracy                           0.93       392\n",
      "     macro avg       0.93      0.93      0.93       392\n",
      "  weighted avg       0.93      0.93      0.93       392\n",
      "\n",
      "EVAL\n",
      "                 precision    recall  f1-score   support\n",
      "\n",
      "   exploration       0.94      0.95      0.95        65\n",
      "   headhunters       0.87      1.00      0.93        48\n",
      "  intelligence       0.93      0.81      0.86        47\n",
      "     logistics       0.92      0.91      0.91        53\n",
      "      politics       0.98      0.95      0.97        63\n",
      "transportation       0.91      0.93      0.92        56\n",
      "       weapons       0.90      0.90      0.90        48\n",
      "\n",
      "      accuracy                           0.92       380\n",
      "     macro avg       0.92      0.92      0.92       380\n",
      "  weighted avg       0.92      0.92      0.92       380\n",
      "\n",
      "confusion matrix:\n",
      "TEST\n",
      " [[56  6  0  0  1  0  1]\n",
      " [ 0 51  0  0  0  0  0]\n",
      " [ 0  2 34  1  0  2  5]\n",
      " [ 1  0  0 50  0  0  0]\n",
      " [ 0  0  1  0 53  0  0]\n",
      " [ 0  0  1  0  1 60  0]\n",
      " [ 0  0  2  2  0  2 60]]\n",
      "EVAL\n",
      " [[62  2  0  0  0  1  0]\n",
      " [ 0 48  0  0  0  0  0]\n",
      " [ 0  0 38  2  0  3  4]\n",
      " [ 3  1  0 48  1  0  0]\n",
      " [ 1  2  0  0 60  0  0]\n",
      " [ 0  2  1  0  0 52  1]\n",
      " [ 0  0  2  2  0  1 43]]\n",
      "... Processing\n",
      "Init train LogReg\n",
      "[Pipeline] .............. (step 1 of 3) Processing vect, total=  27.6s\n",
      "[Pipeline] ............. (step 2 of 3) Processing tfidf, total=   1.3s\n",
      "[Pipeline] ............... (step 3 of 3) Processing clf, total=   0.2s\n",
      "End train LogReg\n",
      "Save/load model category_LogReg\n",
      "accuracy_test:   0.903\n",
      "accuracy_eval:   0.911\n",
      "classification report:\n",
      "TEST\n",
      "                 precision    recall  f1-score   support\n",
      "\n",
      "   exploration       0.98      0.88      0.93        64\n",
      "   headhunters       0.76      0.98      0.85        51\n",
      "  intelligence       0.93      0.64      0.76        44\n",
      "     logistics       0.96      0.94      0.95        51\n",
      "      politics       0.93      0.94      0.94        54\n",
      "transportation       0.92      0.98      0.95        62\n",
      "       weapons       0.88      0.91      0.90        66\n",
      "\n",
      "      accuracy                           0.90       392\n",
      "     macro avg       0.91      0.90      0.90       392\n",
      "  weighted avg       0.91      0.90      0.90       392\n",
      "\n",
      "EVAL\n",
      "                 precision    recall  f1-score   support\n",
      "\n",
      "   exploration       0.93      0.97      0.95        65\n",
      "   headhunters       0.83      1.00      0.91        48\n",
      "  intelligence       0.93      0.79      0.85        47\n",
      "     logistics       0.92      0.87      0.89        53\n",
      "      politics       0.97      0.94      0.95        63\n",
      "transportation       0.89      0.91      0.90        56\n",
      "       weapons       0.91      0.88      0.89        48\n",
      "\n",
      "      accuracy                           0.91       380\n",
      "     macro avg       0.91      0.91      0.91       380\n",
      "  weighted avg       0.91      0.91      0.91       380\n",
      "\n",
      "confusion matrix:\n",
      "TEST\n",
      " [[56  6  1  0  1  0  0]\n",
      " [ 0 50  0  0  0  1  0]\n",
      " [ 0  4 28  1  1  2  8]\n",
      " [ 1  0  0 48  1  1  0]\n",
      " [ 0  2  1  0 51  0  0]\n",
      " [ 0  1  0  0  0 61  0]\n",
      " [ 0  3  0  1  1  1 60]]\n",
      "EVAL\n",
      " [[63  1  0  0  0  1  0]\n",
      " [ 0 48  0  0  0  0  0]\n",
      " [ 1  1 37  2  1  2  3]\n",
      " [ 3  3  0 46  1  0  0]\n",
      " [ 1  2  0  0 59  1  0]\n",
      " [ 0  3  1  0  0 51  1]\n",
      " [ 0  0  2  2  0  2 42]]\n",
      "... Processing\n",
      "Init train XGB\n",
      "[Pipeline] .............. (step 1 of 3) Processing vect, total=  27.7s\n",
      "[Pipeline] ............. (step 2 of 3) Processing tfidf, total=   1.3s\n",
      "[Pipeline] ............... (step 3 of 3) Processing clf, total=   8.0s\n",
      "End train XGB\n",
      "Save/load model category_XGB\n",
      "accuracy_test:   0.770\n",
      "accuracy_eval:   0.779\n",
      "classification report:\n",
      "TEST\n",
      "                 precision    recall  f1-score   support\n",
      "\n",
      "   exploration       0.80      0.69      0.74        64\n",
      "   headhunters       0.64      0.90      0.75        51\n",
      "  intelligence       0.70      0.64      0.67        44\n",
      "     logistics       0.85      0.76      0.80        51\n",
      "      politics       0.83      0.91      0.87        54\n",
      "transportation       0.82      0.81      0.81        62\n",
      "       weapons       0.78      0.70      0.74        66\n",
      "\n",
      "      accuracy                           0.77       392\n",
      "     macro avg       0.77      0.77      0.77       392\n",
      "  weighted avg       0.78      0.77      0.77       392\n",
      "\n",
      "EVAL\n",
      "                 precision    recall  f1-score   support\n",
      "\n",
      "   exploration       0.83      0.82      0.82        65\n",
      "   headhunters       0.66      0.83      0.73        48\n",
      "  intelligence       0.83      0.64      0.72        47\n",
      "     logistics       0.85      0.77      0.81        53\n",
      "      politics       0.83      0.90      0.86        63\n",
      "transportation       0.78      0.75      0.76        56\n",
      "       weapons       0.69      0.69      0.69        48\n",
      "\n",
      "      accuracy                           0.78       380\n",
      "     macro avg       0.78      0.77      0.77       380\n",
      "  weighted avg       0.79      0.78      0.78       380\n",
      "\n",
      "confusion matrix:\n",
      "TEST\n",
      " [[44  6  3  2  4  3  2]\n",
      " [ 1 46  0  1  0  2  1]\n",
      " [ 2  2 28  1  3  1  7]\n",
      " [ 2  4  2 39  1  2  1]\n",
      " [ 1  3  1  0 49  0  0]\n",
      " [ 3  6  0  0  1 50  2]\n",
      " [ 2  5  6  3  1  3 46]]\n",
      "EVAL\n",
      " [[53  4  0  0  4  2  2]\n",
      " [ 3 40  1  1  1  2  0]\n",
      " [ 3  1 30  4  1  3  5]\n",
      " [ 0  5  0 41  3  0  4]\n",
      " [ 2  3  0  0 57  0  1]\n",
      " [ 1  6  0  2  2 42  3]\n",
      " [ 2  2  5  0  1  5 33]]\n",
      "... Processing\n",
      "Init train RFC\n",
      "[Pipeline] .............. (step 1 of 3) Processing vect, total=  27.9s\n"
     ]
    },
    {
     "name": "stdout",
     "output_type": "stream",
     "text": [
      "[Pipeline] ............. (step 2 of 3) Processing tfidf, total=   1.3s\n",
      "[Pipeline] ............... (step 3 of 3) Processing clf, total=   0.9s\n",
      "End train RFC\n",
      "Save/load model category_RFC\n",
      "accuracy_test:   0.804\n",
      "accuracy_eval:   0.826\n",
      "classification report:\n",
      "TEST\n",
      "                 precision    recall  f1-score   support\n",
      "\n",
      "   exploration       0.90      0.70      0.79        64\n",
      "   headhunters       0.58      0.92      0.71        51\n",
      "  intelligence       0.86      0.57      0.68        44\n",
      "     logistics       0.91      0.82      0.87        51\n",
      "      politics       0.71      0.96      0.82        54\n",
      "transportation       0.89      0.89      0.89        62\n",
      "       weapons       0.96      0.74      0.84        66\n",
      "\n",
      "      accuracy                           0.80       392\n",
      "     macro avg       0.83      0.80      0.80       392\n",
      "  weighted avg       0.84      0.80      0.81       392\n",
      "\n",
      "EVAL\n",
      "                 precision    recall  f1-score   support\n",
      "\n",
      "   exploration       0.88      0.80      0.84        65\n",
      "   headhunters       0.64      0.92      0.75        48\n",
      "  intelligence       0.82      0.70      0.76        47\n",
      "     logistics       0.93      0.81      0.87        53\n",
      "      politics       0.86      0.94      0.89        63\n",
      "transportation       0.83      0.86      0.84        56\n",
      "       weapons       0.90      0.73      0.80        48\n",
      "\n",
      "      accuracy                           0.83       380\n",
      "     macro avg       0.84      0.82      0.82       380\n",
      "  weighted avg       0.84      0.83      0.83       380\n",
      "\n",
      "confusion matrix:\n",
      "TEST\n",
      " [[45 11  0  1  7  0  0]\n",
      " [ 0 47  0  0  2  2  0]\n",
      " [ 1  7 25  1  5  3  2]\n",
      " [ 1  4  0 42  3  1  0]\n",
      " [ 1  1  0  0 52  0  0]\n",
      " [ 0  6  0  0  1 55  0]\n",
      " [ 2  5  4  2  3  1 49]]\n",
      "EVAL\n",
      " [[52  7  1  0  3  2  0]\n",
      " [ 2 44  1  0  0  1  0]\n",
      " [ 1  4 33  2  2  2  3]\n",
      " [ 1  3  2 43  3  0  1]\n",
      " [ 2  2  0  0 59  0  0]\n",
      " [ 1  6  1  0  0 48  0]\n",
      " [ 0  3  2  1  2  5 35]]\n",
      "... Processing\n",
      "Init train KNN\n",
      "[Pipeline] .............. (step 1 of 3) Processing vect, total=  28.3s\n",
      "[Pipeline] ............. (step 2 of 3) Processing tfidf, total=   1.3s\n",
      "[Pipeline] ............... (step 3 of 3) Processing clf, total=   0.0s\n",
      "End train KNN\n",
      "Save/load model category_KNN\n",
      "accuracy_test:   0.171\n",
      "accuracy_eval:   0.153\n",
      "classification report:\n",
      "TEST\n",
      "                 precision    recall  f1-score   support\n",
      "\n",
      "   exploration       1.00      0.08      0.14        64\n",
      "   headhunters       0.14      1.00      0.24        51\n",
      "  intelligence       1.00      0.02      0.04        44\n",
      "     logistics       0.00      0.00      0.00        51\n",
      "      politics       1.00      0.09      0.17        54\n",
      "transportation       1.00      0.03      0.06        62\n",
      "       weapons       1.00      0.05      0.09        66\n",
      "\n",
      "      accuracy                           0.17       392\n",
      "     macro avg       0.73      0.18      0.11       392\n",
      "  weighted avg       0.76      0.17      0.11       392\n",
      "\n",
      "EVAL\n",
      "                 precision    recall  f1-score   support\n",
      "\n",
      "   exploration       1.00      0.03      0.06        65\n",
      "   headhunters       0.13      1.00      0.23        48\n",
      "  intelligence       0.00      0.00      0.00        47\n",
      "     logistics       0.00      0.00      0.00        53\n",
      "      politics       1.00      0.08      0.15        63\n",
      "transportation       1.00      0.02      0.04        56\n",
      "       weapons       1.00      0.04      0.08        48\n",
      "\n",
      "      accuracy                           0.15       380\n",
      "     macro avg       0.59      0.17      0.08       380\n",
      "  weighted avg       0.63      0.15      0.08       380\n",
      "\n",
      "confusion matrix:\n",
      "TEST\n",
      " [[ 5 59  0  0  0  0  0]\n",
      " [ 0 51  0  0  0  0  0]\n",
      " [ 0 43  1  0  0  0  0]\n",
      " [ 0 51  0  0  0  0  0]\n",
      " [ 0 49  0  0  5  0  0]\n",
      " [ 0 60  0  0  0  2  0]\n",
      " [ 0 63  0  0  0  0  3]]\n",
      "EVAL\n",
      " [[ 2 63  0  0  0  0  0]\n",
      " [ 0 48  0  0  0  0  0]\n",
      " [ 0 47  0  0  0  0  0]\n",
      " [ 0 53  0  0  0  0  0]\n",
      " [ 0 58  0  0  5  0  0]\n",
      " [ 0 55  0  0  0  1  0]\n",
      " [ 0 46  0  0  0  0  2]]\n"
     ]
    }
   ],
   "source": [
    "!python3 train.py \"dataset\""
   ]
  },
  {
   "cell_type": "markdown",
   "metadata": {},
   "source": [
    "Bien, con rich text mining, conseguimos subir las metrics, pero no subir la de la categoría *intelligence* (F1-Score) en el mejor modelo **Linear SVC**, pero en las demás, si. Lo que prueba un poco la teoría. Conseguimos un accuracy en test y eval del **0.9265** para el mejor modelo, con metrics bastante equilibradas en su avg.\n",
    "\n",
    "Un párrafo aparte, necesita el KNN, se ve que el rich text mining lo tiró al piso, cuando presentaba el modelo hablaba de los vecinos, pero al hacer un clean text casi extremo, quedaron muy singulares (sin vecinos?)."
   ]
  },
  {
   "cell_type": "markdown",
   "metadata": {},
   "source": [
    "Como baseline, está muy bien, quizá con estos modelos se podrían probar más cosas: trabajando abreviaturas? o ir jugando con las combinaciones del clean_text function, haciendo cutt-off del vectorizer...haciendo gridsearch para encontrar el mejor modelo...también probar k-fold... incluso SMOTE para esas clases, con pocas muestras (e.g., *intelligence*)\n",
    "\n",
    "Lo siguiente sería escalar a Deep Learning: CNN, LSTM...o sus combinaciones...o bien, transformers, BERT por ejemplo, incluso haciendo fine-tuning (aunque ya se necesita otra capacidad de cómputo)"
   ]
  },
  {
   "cell_type": "markdown",
   "metadata": {},
   "source": [
    "## Classify"
   ]
  },
  {
   "cell_type": "code",
   "execution_count": 13,
   "metadata": {},
   "outputs": [
    {
     "data": {
      "text/plain": [
       "['dataset/logistics/51131',\n",
       " 'dataset/weapons/54387',\n",
       " 'dataset/intelligence/178521']"
      ]
     },
     "execution_count": 13,
     "metadata": {},
     "output_type": "execute_result"
    }
   ],
   "source": [
    "# read files\n",
    "import glob\n",
    "import random\n",
    "#\n",
    "files = glob.glob(\"{}/*/*{}\".format(\"dataset\",\"\"))\n",
    "sample = random.sample(files, 3)\n",
    "sample"
   ]
  },
  {
   "cell_type": "code",
   "execution_count": 17,
   "metadata": {},
   "outputs": [
    {
     "name": "stdout",
     "output_type": "stream",
     "text": [
      "dataset/logistics/51131 logistics \n",
      "dataset/weapons/54387 weapons \n",
      "dataset/intelligence/178521 intelligence \n"
     ]
    }
   ],
   "source": [
    "!python3 classify.py \"models/category_SVC.joblib\" 'dataset/logistics/51131' 'dataset/weapons/54387' 'dataset/intelligence/178521'"
   ]
  },
  {
   "cell_type": "markdown",
   "metadata": {},
   "source": [
    "Utilizamos el mejor modelo, del experimento 2. Sus metrics son:\n",
    "\n",
    "_test_\n",
    "\n",
    "`(metric, precision, recall, f1-score, support)\n",
    "accuracy                            0.93       392\n",
    "macro avg       0.93      0.93      0.93       392\n",
    "weighted avg    0.93      0.93      0.93       392`\n",
    "\n",
    "_eval_\n",
    "\n",
    "`(metric, precision, recall, f1-score, support)\n",
    "accuracy                            0.92       380\n",
    "macro avg       0.92      0.92      0.92       380\n",
    "weighted avg    0.92      0.92      0.92       380`"
   ]
  },
  {
   "cell_type": "markdown",
   "metadata": {},
   "source": [
    "*La misión es conseguir que el sistema de clasificación sea capaz de clasificar una\n",
    "nueva transmisión de manera automática para que el departamento de operaciones pueda evaluar\n",
    "las amenazas más rápido.* Misión cumplida, pero...\n",
    "\n",
    "entonces a lo mejor al departamento de operaciones le interese evaluar las amenazas en pares de categorías, esto es, sugiriendo, además de la categoría predicha por nuestro clasificador, la segunda con más confidence. Así leyendo rápidamente en una pantalla o panel el mensaje [acá puede haber una tercera misión de text-summarization? ;)], ofreciendo dos posibles códigos, les ayude a decidir dónde se categoriza cada amenaza :)"
   ]
  },
  {
   "cell_type": "markdown",
   "metadata": {},
   "source": [
    "**Try it...**"
   ]
  },
  {
   "cell_type": "code",
   "execution_count": 16,
   "metadata": {},
   "outputs": [
    {
     "name": "stdout",
     "output_type": "stream",
     "text": [
      "dataset/logistics/51131 logistics 2nd option: transportation\n",
      "dataset/weapons/54387 weapons 2nd option: exploration\n",
      "dataset/intelligence/178521 intelligence 2nd option: transportation\n"
     ]
    }
   ],
   "source": [
    "!python3 classify.py --pair_code \"models/category_SVC.joblib\" 'dataset/logistics/51131' 'dataset/weapons/54387' 'dataset/intelligence/178521'"
   ]
  },
  {
   "cell_type": "markdown",
   "metadata": {},
   "source": [
    "-Fin de la transmisión-"
   ]
  },
  {
   "cell_type": "code",
   "execution_count": 21,
   "metadata": {},
   "outputs": [],
   "source": [
    "!python3 train.py \"dataset\""
   ]
  },
  {
   "cell_type": "code",
   "execution_count": null,
   "metadata": {},
   "outputs": [],
   "source": []
  }
 ],
 "metadata": {
  "kernelspec": {
   "display_name": "Python 3",
   "language": "python",
   "name": "python3"
  },
  "language_info": {
   "codemirror_mode": {
    "name": "ipython",
    "version": 3
   },
   "file_extension": ".py",
   "mimetype": "text/x-python",
   "name": "python",
   "nbconvert_exporter": "python",
   "pygments_lexer": "ipython3",
   "version": "3.6.9"
  }
 },
 "nbformat": 4,
 "nbformat_minor": 4
}
